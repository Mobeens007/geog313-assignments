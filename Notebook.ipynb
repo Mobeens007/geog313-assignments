{
 "cells": [
  {
   "cell_type": "code",
   "execution_count": null,
   "id": "20fc1345-992e-4d86-a2d9-40979d76df20",
   "metadata": {},
   "outputs": [],
   "source": [
    "import numpy as np\n",
    "import matplotlib.pyplot as plt"
   ]
  },
  {
   "cell_type": "code",
   "execution_count": null,
   "id": "83167f79",
   "metadata": {},
   "outputs": [],
   "source": [
    "# Generate and print x array \n",
    "x = np.arange(-100, 100 + 0.5, 0.5)\n",
    "print(x[:5])"
   ]
  },
  {
   "cell_type": "code",
   "execution_count": null,
   "id": "4ef69b06",
   "metadata": {},
   "outputs": [],
   "source": [
    "# Generate and print y array \n",
    "y = np.cos(x)\n",
    "print(y[:5])"
   ]
  },
  {
   "cell_type": "code",
   "execution_count": null,
   "id": "f480d237",
   "metadata": {},
   "outputs": [],
   "source": [
    "# Generate and print z array \n",
    "z = np.sin(x)\n",
    "print(z[:5])"
   ]
  },
  {
   "cell_type": "code",
   "execution_count": null,
   "id": "38cb405b",
   "metadata": {},
   "outputs": [],
   "source": [
    "# Create plot \n",
    "f, ax = plt.subplots()\n",
    "ax.plot(x, z, label='z = sin(x)', color='grey')\n",
    "ax.plot(x, y, label='y = cos(x)', color='purple')\n",
    "\n",
    "plt.ax=(figsize=(10,6))\n",
    "\n",
    "ax.set(xlabel='x',\n",
    "       ylabel='y',\n",
    "      title='Functions of Sin(x) and Cos(x)')\n",
    "ax.legend()\n",
    "plt.show()"
   ]
  }
 ],
 "metadata": {
  "kernelspec": {
   "display_name": "Python 3 (ipykernel)",
   "language": "python",
   "name": "python3"
  },
  "language_info": {
   "codemirror_mode": {
    "name": "ipython",
    "version": 3
   },
   "file_extension": ".py",
   "mimetype": "text/x-python",
   "name": "python",
   "nbconvert_exporter": "python",
   "pygments_lexer": "ipython3",
   "version": "3.9.6"
  }
 },
 "nbformat": 4,
 "nbformat_minor": 5
}
